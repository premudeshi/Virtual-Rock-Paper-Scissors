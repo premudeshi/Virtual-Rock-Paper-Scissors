{
 "cells": [
  {
   "cell_type": "markdown",
   "metadata": {
    "collapsed": true
   },
   "source": [
    "<h1>Rock, Paper Sciscors</h1>\n",
    "<h2> Initialize Variables</h2>"
   ]
  },
  {
   "cell_type": "code",
   "execution_count": 50,
   "metadata": {},
   "outputs": [],
   "source": [
    "#Vars\n",
    "import tensorflow as tf\n",
    "import cv2\n",
    "import os\n",
    "import matplotlib.pyplot as plt\n",
    "import numpy as np\n",
    "# import Image\n",
    "\n",
    "import matplotlib.image as mpimg\n",
    "\n",
    "%matplotlib inline"
   ]
  },
  {
   "cell_type": "markdown",
   "metadata": {},
   "source": [
    "<h2>Image Convertions</h2>\n",
    "Convert the image into a readable file format for TensorFlow"
   ]
  },
  {
   "cell_type": "code",
   "execution_count": 52,
   "metadata": {
    "collapsed": false
   },
   "outputs": [
    {
     "name": "stdout",
     "output_type": "stream",
     "text": [
      "scene00321.png\n(600, 600, 3)\nscene00121.png\n(600, 600, 3)\nscene00301.png\n(600, 600, 3)\nscene00071.png\n(600, 600, 3)\nscene00161.png\n(600, 600, 3)\nscene00091.png\n(600, 600, 3)\nscene00191.png\n(600, 600, 3)\nscene00271.png\n(600, 600, 3)\n"
     ]
    },
    {
     "name": "stdout",
     "output_type": "stream",
     "text": [
      "scene00211.png\n(600, 600, 3)\nscene00201.png\n(600, 600, 3)\nscene00311.png\n(600, 600, 3)\nscene00261.png\n(600, 600, 3)\n"
     ]
    },
    {
     "name": "stdout",
     "output_type": "stream",
     "text": [
      "scene00141.png\n(600, 600, 3)\nscene00181.png\n(600, 600, 3)\nscene00041.png\n(600, 600, 3)\nscene00251.png\n"
     ]
    },
    {
     "name": "stdout",
     "output_type": "stream",
     "text": [
      "(600, 600, 3)\nscene00241.png\n(600, 600, 3)\nscene00331.png\n(600, 600, 3)\n"
     ]
    },
    {
     "name": "stdout",
     "output_type": "stream",
     "text": [
      "scene00231.png\n(600, 600, 3)\nscene00061.png\n(600, 600, 3)\nscene00341.png\n(600, 600, 3)\n"
     ]
    },
    {
     "name": "stdout",
     "output_type": "stream",
     "text": [
      "scene00111.png\n(600, 600, 3)\nscene00031.png\n(600, 600, 3)\nscene00081.png\n(600, 600, 3)\n"
     ]
    },
    {
     "name": "stdout",
     "output_type": "stream",
     "text": [
      "scene00281.png\n(600, 600, 3)\nscene00151.png\n(600, 600, 3)\nscene00221.png\n(600, 600, 3)\n"
     ]
    },
    {
     "name": "stdout",
     "output_type": "stream",
     "text": [
      "scene00051.png\n(600, 600, 3)\nscene00101.png\n(600, 600, 3)\n"
     ]
    },
    {
     "name": "stdout",
     "output_type": "stream",
     "text": [
      "scene00131.png\n(600, 600, 3)\nscene00291.png\n(600, 600, 3)\n"
     ]
    },
    {
     "name": "stdout",
     "output_type": "stream",
     "text": [
      "scene00171.png\n(600, 600, 3)\nscene00261.png\n(600, 600, 3)\n"
     ]
    },
    {
     "name": "stdout",
     "output_type": "stream",
     "text": [
      "scene00041.png\n(600, 600, 3)\nscene00251.png\n(600, 600, 3)\n"
     ]
    },
    {
     "name": "stdout",
     "output_type": "stream",
     "text": [
      "scene00231.png\n(600, 600, 3)\nscene00061.png\n(600, 600, 3)\n"
     ]
    },
    {
     "name": "stdout",
     "output_type": "stream",
     "text": [
      "scene00021.png\n(600, 600, 3)\nscene00011.png\n(600, 600, 3)\n"
     ]
    },
    {
     "name": "stdout",
     "output_type": "stream",
     "text": [
      "scene00031.png\n(600, 600, 3)\nscene00221.png\n(600, 600, 3)\n"
     ]
    },
    {
     "name": "stdout",
     "output_type": "stream",
     "text": [
      "scene00051.png\n(600, 600, 3)\nscene00121.png\n(600, 600, 3)\n"
     ]
    },
    {
     "name": "stdout",
     "output_type": "stream",
     "text": [
      "scene00071.png\n(600, 600, 3)\nscene00201.png\n(600, 600, 3)\n"
     ]
    },
    {
     "name": "stdout",
     "output_type": "stream",
     "text": [
      "scene00181.png\n(600, 600, 3)\nscene00041.png\n(600, 600, 3)\n"
     ]
    },
    {
     "name": "stdout",
     "output_type": "stream",
     "text": [
      "scene00061.png\n(600, 600, 3)\nscene00111.png\n(600, 600, 3)\n"
     ]
    },
    {
     "name": "stdout",
     "output_type": "stream",
     "text": [
      "scene00031.png\n(600, 600, 3)\nscene00221.png\n(600, 600, 3)\n"
     ]
    },
    {
     "name": "stdout",
     "output_type": "stream",
     "text": [
      "scene00051.png\n(600, 600, 3)\nscene00101.png\n"
     ]
    },
    {
     "name": "stdout",
     "output_type": "stream",
     "text": [
      "(600, 600, 3)\nscene00171.png\n(600, 600, 3)\n"
     ]
    },
    {
     "name": "stdout",
     "output_type": "stream",
     "text": [
      "(58320000,)\n(54, 600, 600, 3)\n['rock' 'rock' 'rock' 'rock' 'rock' 'rock' 'rock' 'rock' 'rock' 'rock'\n 'rock' 'rock' 'rock' 'rock' 'rock' 'rock' 'rock' 'rock' 'rock' 'rock'\n 'rock' 'rock' 'rock' 'rock' 'rock' 'rock' 'rock' 'rock' 'rock' 'rock'\n 'rock' 'rock' 'paper' 'paper' 'paper' 'paper' 'paper' 'paper' 'paper'\n 'paper' 'paper' 'paper' 'scissors' 'scissors' 'scissors' 'scissors'\n 'scissors' 'scissors' 'scissors' 'scissors' 'scissors' 'scissors'\n 'scissors' 'scissors']\n"
     ]
    }
   ],
   "source": [
    "directory = \"./rock\"\n",
    "\n",
    "images = np.array([])\n",
    "labels = np.array([])\n",
    "for file in os.listdir(directory):\n",
    "    print(file)\n",
    "    im = plt.imread(os.path.join(directory, file))\n",
    "    im.resize((600,600,3))\n",
    "    print(im.shape)\n",
    "    images = np.append(images, im)\n",
    "    labels = np.append(labels, \"rock\")\n",
    "    \n",
    "directory = \"./paper\"\n",
    "for file in os.listdir(directory):\n",
    "    print(file)\n",
    "    im = plt.imread(os.path.join(directory, file))\n",
    "    im.resize((600,600,3))\n",
    "    print(im.shape)\n",
    "    images = np.append(images, im)\n",
    "    labels = np.append(labels, \"paper\")\n",
    "    \n",
    "directory = \"./scissors\"\n",
    "for file in os.listdir(directory):\n",
    "    print(file)\n",
    "    im = plt.imread(os.path.join(directory, file))\n",
    "    im.resize((600,600,3))\n",
    "    print(im.shape)\n",
    "    images = np.append(images, im)\n",
    "    labels = np.append(labels, \"scissors\")\n",
    "\n",
    "   \n",
    "print(images.shape) \n",
    "nimage = images.reshape((-1, 600,600,3))\n",
    "print(nimage.shape)\n",
    "print(labels)\n",
    "# \n",
    "# for img in images:\n",
    "#     plt.imshow(img)\n",
    "# # print(images.shape)\n",
    "# \n",
    "# # image = plt.imread(\"./rock/scene00051.png\")\n",
    "# # print(image.shape)\n"
   ]
  },
  {
   "cell_type": "markdown",
   "metadata": {},
   "source": [
    "<h2> Machine Learning.</h2> \n",
    "Train Models to Recognize Images\n",
    "<h3>Neural Network</h3>"
   ]
  },
  {
   "cell_type": "code",
   "execution_count": 49,
   "metadata": {},
   "outputs": [],
   "source": [
    "\n",
    "# TODO: The neural network\n",
    "class ConvNet:\n",
    "     \n",
    "    def __init__(self, image_height, image_width, channels, num_classes):\n",
    "         \n",
    "        self.input_layer = tf.placeholder(dtype=tf.float32, shape=[None, image_height, image_width, channels], name=\"inputs\")\n",
    "        print(self.input_layer.shape)\n",
    "         \n",
    "        conv_layer_1 = tf.layers.conv2d(self.input_layer, filters=32, kernel_size=[5, 5], padding=\"same\", activation=tf.nn.relu)\n",
    "        print(conv_layer_1.shape)\n",
    "         \n",
    "        pooling_layer_1 = tf.layers.max_pooling2d(conv_layer_1, pool_size=[2,2], strides=2)\n",
    "        print(pooling_layer_1.shape)\n",
    "         \n",
    "        conv_layer_2 = tf.layers.conv2d(pooling_layer_1, filters=64, kernel_size=[5, 5], padding=\"same\", activation=tf.nn.relu)\n",
    "        print(conv_layer_2.shape)\n",
    "         \n",
    "        pooling_layer_2 = tf.layers.max_pooling2d(conv_layer_2, pool_size=[2, 2], strides=2)\n",
    "        print(pooling_layer_2.shape)\n",
    "         \n",
    "        flattened_pooling = tf.layers.flatten(pooling_layer_2)\n",
    "        dense_layer = tf.layers.dense(flattened_pooling, 1024, activation=tf.nn.relu)\n",
    "        print(dense_layer.shape)\n",
    "        dropout = tf.layers.dropout(dense_layer, rate=0.4, training=True)\n",
    "        outputs = tf.layers.dense(dropout, num_classes)\n",
    "        print(outputs.shape)\n",
    "         \n",
    "        self.choice = tf.argmax(outputs, axis=1)\n",
    "        self.probability = tf.nn.softmax(outputs)\n",
    "         \n",
    "        self.labels = tf.placeholder(dtype=tf.float32, name=\"labels\")\n",
    "        self.accuracy, self.accuracy_op = tf.metrics.accuracy(self.labels, self.choice)\n",
    "         \n",
    "        one_hot_labels = tf.one_hot(indices=tf.cast(self.labels, dtype=tf.int32), depth=num_classes)     \n",
    "        self.loss = tf.losses.softmax_cross_entropy(onehot_labels=one_hot_labels, logits=outputs)\n",
    "         \n",
    "        optimizer = tf.train.GradientDescentOptimizer(learning_rate=1e-2)\n",
    "        self.train_operation = optimizer.minimize(loss=self.loss, global_step=tf.train.get_global_step())\n"
   ]
  },
  {
   "cell_type": "markdown",
   "metadata": {},
   "source": [
    "<h3>The Training Loop / Learning Loop</h3>\n",
    "This will train the system to learn the classifications!"
   ]
  },
  {
   "cell_type": "code",
   "execution_count": null,
   "metadata": {},
   "outputs": [],
   "source": [
    "#Variables for The training Process\n",
    "\n",
    "training_steps = 24000\n",
    "batch_size = 64\n",
    " \n",
    "path = \"./\" + model_name + \"-cnn/\"\n",
    "performance_graph = np.array([])\n",
    "load_checkpoint = True\n"
   ]
  },
  {
   "cell_type": "code",
   "execution_count": 50,
   "metadata": {},
   "outputs": [],
   "source": [
    "# Train\n",
    "\n",
    "tf.reset_default_graph()\n",
    " \n",
    "dataset = tf.data.Dataset.from_tensor_slices((train_data, train_labels))\n",
    "dataset = dataset.shuffle(buffer_size=train_labels.shape[0])\n",
    "dataset = dataset.batch(batch_size)\n",
    "dataset = dataset.repeat()\n",
    " \n",
    "dataset_iterator = dataset.make_initializable_iterator()\n",
    "next_element = dataset_iterator.get_next()\n",
    " \n",
    "cnn = ConvNet(image_height,image_width,color_channels,10)\n",
    " \n",
    "saver = tf.train.Saver(max_to_keep=2)\n",
    " \n",
    "if not os.path.exists(path):\n",
    "    os.makedirs(path)\n",
    "     \n",
    "with tf.Session() as sess:\n",
    "     \n",
    "    if load_checkpoint:\n",
    "        checkpoint = tf.train.get_checkpoint_state(path)\n",
    "        saver.restore(sess, checkpoint.model_checkpoint_path)\n",
    "    else:\n",
    "        sess.run(tf.global_variables_initializer())\n",
    "     \n",
    "    sess.run(tf.local_variables_initializer())\n",
    "    sess.run(dataset_iterator.initializer)\n",
    "    for step in range(training_steps):\n",
    "        current_batch = sess.run(next_element)\n",
    "         \n",
    "        batch_inputs = current_batch[0]\n",
    "        batch_labels = current_batch[1]\n",
    "         \n",
    "        sess.run((cnn.train_operation, cnn.accuracy_op), feed_dict={cnn.input_layer:batch_inputs, cnn.labels:batch_labels})\n",
    "         \n",
    "        if step % 10 == 0:\n",
    "            performance_graph = np.append(performance_graph, sess.run(cnn.accuracy))\n",
    "            \n",
    "        if step % 1000 == 0 and step > 0:\n",
    "            current_acc = sess.run(cnn.accuracy)\n",
    "             \n",
    "            print(\"Accuracy at step \" + str(step) + \": \" + str(current_acc))\n",
    "            print(\"Saving checkpoint\")\n",
    "            saver.save(sess, path + model_name, step)\n",
    "         \n",
    "    print(\"Saving final checkpoint for training session.\")\n",
    "    saver.save(sess, path + model_name, step)"
   ]
  },
  {
   "cell_type": "markdown",
   "metadata": {},
   "source": [
    "<h2> Camera Capture</h2>\n",
    "Open camera and click picture, set it up for Tensor Flow"
   ]
  },
  {
   "cell_type": "code",
   "execution_count": 3,
   "metadata": {},
   "outputs": [],
   "source": [
    "#capture from camera at location 0\n",
    "cap = cv2.VideoCapture(0)\n",
    "#set the width and height, and UNSUCCESSFULLY set the exposure time\n",
    "cap.set(3,600)\n",
    "cap.set(4,600)\n",
    "cap.set(15, 0.1)\n",
    "\n",
    "while True:\n",
    "    ret, img = cap.read()\n",
    "    cv2.imshow(\"input\", img)\n",
    "    #cv2.imshow(\"thresholded\", imgray*thresh2)\n",
    "\n",
    "    key = cv2.waitKey(10)\n",
    "    if key == 27:\n",
    "        break\n",
    "\n",
    "\n",
    "cv2.destroyAllWindows() \n",
    "cv2.VideoCapture(0).release()\n"
   ]
  },
  {
   "cell_type": "markdown",
   "metadata": {},
   "source": [
    "<h2>Detect Object</h2>\n",
    "Use TensorFlow to detect Object"
   ]
  },
  {
   "cell_type": "markdown",
   "metadata": {},
   "source": [
    "<h2>Winner Detection</h2>\n",
    "Check who won"
   ]
  },
  {
   "cell_type": "markdown",
   "metadata": {},
   "source": [
    "<h2> Camera Capture</h2>\n",
    "Open camera and click picture, set it up for Tensor Flow"
   ]
  },
  {
   "cell_type": "code",
   "execution_count": null,
   "metadata": {},
   "outputs": [],
   "source": []
  },
  {
   "cell_type": "markdown",
   "metadata": {},
   "source": [
    "<h2>Detect Object</h2>\n",
    "Use TensorFlow to detect Object"
   ]
  },
  {
   "cell_type": "code",
   "execution_count": null,
   "metadata": {},
   "outputs": [],
   "source": []
  },
  {
   "cell_type": "markdown",
   "metadata": {},
   "source": [
    "<h2>Computer Generated</h2>\n",
    "Let the Computer pick Rock paper scisors"
   ]
  },
  {
   "cell_type": "code",
   "execution_count": null,
   "metadata": {},
   "outputs": [],
   "source": []
  },
  {
   "cell_type": "markdown",
   "metadata": {},
   "source": [
    "<h2>Winner Detection</h2>\n",
    "Check who won"
   ]
  },
  {
   "cell_type": "code",
   "execution_count": null,
   "metadata": {},
   "outputs": [],
   "source": []
  },
  {
   "cell_type": "code",
   "execution_count": null,
   "metadata": {},
   "outputs": [],
   "source": []
  }
 ],
 "metadata": {
  "kernelspec": {
   "display_name": "Python 2",
   "language": "python",
   "name": "python2"
  },
  "language_info": {
   "codemirror_mode": {
    "name": "ipython",
    "version": 2
   },
   "file_extension": ".py",
   "mimetype": "text/x-python",
   "name": "python",
   "nbconvert_exporter": "python",
   "pygments_lexer": "ipython2",
   "version": "2.7.6"
  }
 },
 "nbformat": 4,
 "nbformat_minor": 0
}
