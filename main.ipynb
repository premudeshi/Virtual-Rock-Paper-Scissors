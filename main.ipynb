{
 "cells": [
  {
   "cell_type": "markdown",
   "metadata": {
    "collapsed": true
   },
   "source": [
    "<h1>Rock, Paper Sciscors</h1>\n",
    "<h2> Initialize Variables</h2>"
   ]
  },
  {
   "cell_type": "code",
   "execution_count": 2,
   "metadata": {},
   "outputs": [],
   "source": [
    "#Vars\n",
    "import tensorflow as tf\n",
    "import cv2\n",
    "import os"
   ]
  },
  {
   "cell_type": "markdown",
   "metadata": {},
   "source": [
    "<h2>Image Convertions</h2>\n",
    "Convert the image into a readable file format for TensorFlow"
   ]
  },
  {
   "cell_type": "code",
   "execution_count": null,
   "metadata": {},
   "outputs": [],
   "source": [
    "# define a function to list tfrecord files.\n",
    "def list_tfrecord_file(file_list):\n",
    "    tfrecord_list = []\n",
    "    for i in range(len(file_list)):\n",
    "        current_file_abs_path = os.path.abspath(file_list[i])\t\t\n",
    "        if current_file_abs_path.endswith(\".tfrecord\"):\n",
    "            tfrecord_list.append(current_file_abs_path)\n",
    "            print(\"Found %s successfully!\" % file_list[i])\t\t\t\t\n",
    "        else:\n",
    "            pass\n",
    "    return tfrecord_list\n",
    "\t\n",
    "# Traverse current directory\n",
    "def tfrecord_auto_traversal():\n",
    "    current_folder_filename_list = os.listdir(\"./\") # Change this PATH to traverse other directories if you want.\n",
    "    if current_folder_filename_list != None:\n",
    "        print(\"%s files were found under current folder. \" % len(current_folder_filename_list))\n",
    "        print(\"Please be noted that only files end with '*.tfrecord' will be load!\")\n",
    "        tfrecord_list = list_tfrecord_file(current_folder_filename_list)\n",
    "        if len(tfrecord_list) != 0:\n",
    "            for list_index in xrange(len(tfrecord_list)):\n",
    "                print(tfrecord_list[list_index])\n",
    "        else:\n",
    "            print(\"Cannot find any tfrecord files, please check the path.\")\n",
    "    return tfrecord_list\n",
    "\n",
    "def main():\n",
    "    tfrecord_list = tfrecord_auto_traversal()\n",
    "\n",
    "if __name__ == \"__main__\":\n",
    "    main()"
   ]
  },
  {
   "cell_type": "markdown",
   "metadata": {},
   "source": [
    "<h2> Machine Learning.</h2> \n",
    "Train Models to Recognize Images"
   ]
  },
  {
   "cell_type": "code",
   "execution_count": null,
   "metadata": {},
   "outputs": [],
   "source": []
  },
  {
   "cell_type": "markdown",
   "metadata": {},
   "source": [
    "<h2> Camera Capture</h2>\n",
    "Open camera and click picture, set it up for Tensor Flow"
   ]
  },
  {
   "cell_type": "code",
   "execution_count": 3,
   "metadata": {},
   "outputs": [],
   "source": [
    "#capture from camera at location 0\n",
    "cap = cv2.VideoCapture(0)\n",
    "#set the width and height, and UNSUCCESSFULLY set the exposure time\n",
    "cap.set(3,1280)\n",
    "cap.set(4,1024)\n",
    "cap.set(15, 0.1)\n",
    "\n",
    "while True:\n",
    "    ret, img = cap.read()\n",
    "    cv2.imshow(\"input\", img)\n",
    "    #cv2.imshow(\"thresholded\", imgray*thresh2)\n",
    "\n",
    "    key = cv2.waitKey(10)\n",
    "    if key == 27:\n",
    "        break\n",
    "\n",
    "\n",
    "cv2.destroyAllWindows() \n",
    "cv2.VideoCapture(0).release()\n"
   ]
  },
  {
   "cell_type": "markdown",
   "metadata": {},
   "source": [
    "<h2>Detect Object</h2>\n",
    "Use TensorFlow to detect Object"
   ]
  },
  {
   "cell_type": "markdown",
   "metadata": {},
   "source": [
    "<h2>Winner Detection</h2>\n",
    "Check who won"
   ]
  },
  {
   "cell_type": "markdown",
   "metadata": {},
   "source": [
    "<h2> Camera Capture</h2>\n",
    "Open camera and click picture, set it up for Tensor Flow"
   ]
  },
  {
   "cell_type": "code",
   "execution_count": null,
   "metadata": {},
   "outputs": [],
   "source": []
  },
  {
   "cell_type": "markdown",
   "metadata": {},
   "source": [
    "<h2>Detect Object</h2>\n",
    "Use TensorFlow to detect Object"
   ]
  },
  {
   "cell_type": "code",
   "execution_count": null,
   "metadata": {},
   "outputs": [],
   "source": []
  },
  {
   "cell_type": "markdown",
   "metadata": {},
   "source": [
    "<h2>Computer Generated</h2>\n",
    "Let the Computer pick Rock paper scisors"
   ]
  },
  {
   "cell_type": "code",
   "execution_count": null,
   "metadata": {},
   "outputs": [],
   "source": []
  },
  {
   "cell_type": "markdown",
   "metadata": {},
   "source": [
    "<h2>Winner Detection</h2>\n",
    "Check who won"
   ]
  },
  {
   "cell_type": "code",
   "execution_count": null,
   "metadata": {},
   "outputs": [],
   "source": []
  },
  {
   "cell_type": "code",
   "execution_count": null,
   "metadata": {},
   "outputs": [],
   "source": []
  }
 ],
 "metadata": {
  "kernelspec": {
   "display_name": "Python 2",
   "language": "python",
   "name": "python2"
  },
  "language_info": {
   "codemirror_mode": {
    "name": "ipython",
    "version": 2
   },
   "file_extension": ".py",
   "mimetype": "text/x-python",
   "name": "python",
   "nbconvert_exporter": "python",
   "pygments_lexer": "ipython2",
   "version": "2.7.6"
  }
 },
 "nbformat": 4,
 "nbformat_minor": 0
}
